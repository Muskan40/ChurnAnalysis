{
 "cells": [
  {
   "cell_type": "code",
   "execution_count": null,
   "id": "b1a74583-7447-42ed-9764-230e2f11c3c2",
   "metadata": {},
   "outputs": [],
   "source": [
    "import pyodbc\n",
    "import pandas as pd\n",
    "\n",
    "# SQL Server connection\n",
    "conn = pyodbc.connect(\n",
    "    'DRIVER={ODBC Driver 17 for SQL Server};'\n",
    "    'SERVER=localhost;'\n",
    "    'DATABASE=db_Churn;'\n",
    "    'Trusted_Connection=yes;'\n",
    ")\n",
    "\n",
    "cursor = conn.cursor()\n",
    "\n",
    "# Get all tables with schema\n",
    "cursor.execute(\"SELECT TABLE_SCHEMA, TABLE_NAME FROM INFORMATION_SCHEMA.TABLES WHERE TABLE_TYPE='BASE TABLE'\")\n",
    "tables = [f\"{row[0]}.{row[1]}\" for row in cursor.fetchall()]\n",
    "\n",
    "# Get all views with schema\n",
    "cursor.execute(\"SELECT TABLE_SCHEMA, TABLE_NAME FROM INFORMATION_SCHEMA.VIEWS\")\n",
    "views = [f\"{row[0]}.{row[1]}\" for row in cursor.fetchall()]\n",
    "\n",
    "all_objects = tables + views\n",
    "\n",
    "print(\"Found:\", all_objects)\n",
    "\n",
    "# Export each table/view into Excel\n",
    "output_file = \"db_Churn_data.xlsx\"\n",
    "with pd.ExcelWriter(output_file, engine=\"openpyxl\") as writer:\n",
    "    for obj in all_objects:\n",
    "        try:\n",
    "            df = pd.read_sql(f\"SELECT * FROM {obj}\", conn)\n",
    "            # Excel sheet names cannot exceed 31 characters, replace . with _\n",
    "            sheet_name = obj.replace(\".\", \"_\")[:31]\n",
    "            df.to_excel(writer, sheet_name=sheet_name, index=False)\n",
    "            print(f\"Exported {obj} ✅\")\n",
    "        except Exception as e:\n",
    "            print(f\"Skipping {obj} ❌ due to error: {e}\")\n",
    "\n",
    "conn.close()\n",
    "\n",
    "print(f\"\\n📂 All tables and views exported to {output_file}\")\n"
   ]
  }
 ],
 "metadata": {
  "kernelspec": {
   "display_name": "Python 3 (ipykernel)",
   "language": "python",
   "name": "python3"
  },
  "language_info": {
   "codemirror_mode": {
    "name": "ipython",
    "version": 3
   },
   "file_extension": ".py",
   "mimetype": "text/x-python",
   "name": "python",
   "nbconvert_exporter": "python",
   "pygments_lexer": "ipython3",
   "version": "3.12.2"
  }
 },
 "nbformat": 4,
 "nbformat_minor": 5
}
